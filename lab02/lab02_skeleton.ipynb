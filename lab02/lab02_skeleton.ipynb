{
 "cells": [
  {
   "cell_type": "markdown",
   "metadata": {},
   "source": [
    "# Prelab03 - Low Pass Filter"
   ]
  },
  {
   "cell_type": "code",
   "execution_count": null,
   "metadata": {},
   "outputs": [],
   "source": [
    "from scipy import signal\n",
    "import matplotlib.pyplot as plt\n",
    "import numpy as np\n",
    "from control import TransferFunction, tf, bode_plot, step_response, impulse_response"
   ]
  },
  {
   "cell_type": "markdown",
   "metadata": {},
   "source": [
    "### Prelab Q6\n",
    "\n",
    "Plot the bode plot (both magnitude and phase response) of a first order low pass filter with unity gain and a cut-off frequency of 100Hz.</br>\n",
    "**Make sure the plots have frequency in unit ’hertz’** (You can use either the scipy or control package available in python)\n",
    "\n",
    "If using *scipy*, you can use the functions `TransferFunction` and `bode` </br>\n",
    "If using *control*,  you can use the function `TransferFunction`, `tf`, and `bode_plot`"
   ]
  },
  {
   "cell_type": "markdown",
   "metadata": {},
   "source": [
    "The transfer function of a simple low-pass filter, with unity gain, is:\n",
    "$$ H(s) = \\frac{1}{\\tau s + 1}$$\n",
    "\n",
    "where $\\tau = RC = \\frac{1}{2\\pi f_c}$"
   ]
  },
  {
   "cell_type": "code",
   "execution_count": null,
   "metadata": {},
   "outputs": [],
   "source": [
    "# defining cutoff frequency and time constant\n",
    "fc = ...\n",
    "tau = ..."
   ]
  },
  {
   "cell_type": "code",
   "execution_count": null,
   "metadata": {},
   "outputs": [],
   "source": [
    "# you can use either sciyp or python-control to compute your bode plot\n",
    "tf = ...\n",
    "mag, phase = ...\n",
    "\n",
    "# sharex=True ensures both plots share the same x-axis\n",
    "fig, axs = plt.subplots(2, 1, figsize=(6,8), sharex=True)\n",
    "fig.suptitle('Bode plot')\n",
    "\n",
    "axs[0].semilogx(..., ...)\n",
    "axs[1].semilogx(..., ...)\n",
    "fig.tight_layout()"
   ]
  },
  {
   "cell_type": "markdown",
   "metadata": {},
   "source": [
    "### Prelab Q7\n",
    "Plot the impulse and step response of the transfer function defined above.</br>\n",
    "**Make sure to label all axis and include their units.**\n",
    "\n",
    "If using *scipy*, you can use the functions `impulse` and `step` </br>\n",
    "If using *control*,  you can use the functions `TransferFunction`, `tf`, and `bode_plot`"
   ]
  },
  {
   "cell_type": "code",
   "execution_count": null,
   "metadata": {},
   "outputs": [],
   "source": [
    "# you can use either sciyp or python-control\n",
    "\n",
    "fig, axs = plt.subplots(1, 2, figsize=(10,5))\n",
    "\n",
    "t_imp, y_imp = ...\n",
    "t_step, y_step = ...\n",
    "\n",
    "axs[0].plot(...)\n",
    "axs[1].plot(...)\n",
    "\n",
    "fig.tight_layout()"
   ]
  },
  {
   "attachments": {},
   "cell_type": "markdown",
   "metadata": {},
   "source": [
    "### Prelab Q8\n",
    "What’s the maximum phase shift introduced by the filter?</br>\n",
    "\n",
    "\n",
    "### Prelab Q9\n",
    "What is the gain at the cut-off frequency?</br>\n",
    "\n",
    "\n",
    "### Prelab Q10\n",
    "Can the filter be used to change the input frequency of your signal? Why or why not?</br>\n"
   ]
  },
  {
   "cell_type": "markdown",
   "metadata": {},
   "source": [
    "# Lab03 - Postlab Questions"
   ]
  },
  {
   "cell_type": "markdown",
   "metadata": {},
   "source": [
    "### Postlab Q6 - Resistive Divider Circuit\n",
    "Generate sinusoidal signals at frequencies of 20Hz, 40 Hz, 60 Hz, 80Hz, 100 Hz, 200 Hz and measurethe output of the circuit at each of these frequencies.\n",
    "\n",
    "Write down the peak-to-peak values of voltage that you measure at the output.\n",
    "\n",
    "What kind of trend do you observe in the response of the circuit to inputs of varying frequency?\n",
    "\n",
    "Plot the ratio of output voltage to input voltage as a function of frequency.\n",
    "\n",
    "Also explain how/why you chose the delay in your program to achieve these frequencies."
   ]
  },
  {
   "cell_type": "code",
   "execution_count": null,
   "metadata": {},
   "outputs": [],
   "source": [
    "freqs = ... # in Hz\n",
    "V_in = ... # in V"
   ]
  },
  {
   "cell_type": "code",
   "execution_count": null,
   "metadata": {},
   "outputs": [],
   "source": [
    "V_out_div = ...\n",
    "\n",
    "plt.plot(...)"
   ]
  },
  {
   "cell_type": "markdown",
   "metadata": {},
   "source": [
    "### Postlab Q7 - Resistor-Capacitor Network\n",
    "\n",
    "Generate sinusoidal signals at frequencies of 20Hz, 40 Hz, 60 Hz, 80Hz, 100 Hz, 200 Hz and measure the output of the circuit at each of these frequencies.\n",
    "\n",
    "Write down the peak-to-peak values of voltage and the phase shift (in millisecs with respect to the input signal) that you measure at the output terminal.\n",
    "\n",
    "You can use the second channel to measure the phase shift.\n",
    "\n",
    "Plot the ratio of output voltage to input voltage as a function of frequency. Similiarly plot the phase shift in degrees as a function of frequency.\n",
    "\n",
    "Explain the trend observed in each plot. (Hint: Never trust what’s written on components. Always measure to be sure. Also take the offset bias of the multimeter into account.)"
   ]
  },
  {
   "cell_type": "code",
   "execution_count": null,
   "metadata": {},
   "outputs": [],
   "source": [
    "# V_out and phase values can differ\n",
    "\n",
    "V_out_RC = ...\n",
    "phase = ...\n",
    "\n",
    "fig, axs = plt.subplots(2, 1, figsize=(6,8), sharex=True)\n",
    "axs[0].plot(..., 'bo-')\n",
    "axs[1].plot(..., 'bo-')\n",
    "\n",
    "fig.tight_layout()"
   ]
  }
 ],
 "metadata": {
  "kernelspec": {
   "display_name": "Python 3.9.9 64-bit",
   "language": "python",
   "name": "python3"
  },
  "language_info": {
   "codemirror_mode": {
    "name": "ipython",
    "version": 3
   },
   "file_extension": ".py",
   "mimetype": "text/x-python",
   "name": "python",
   "nbconvert_exporter": "python",
   "pygments_lexer": "ipython3",
   "version": "3.9.13"
  },
  "orig_nbformat": 4,
  "vscode": {
   "interpreter": {
    "hash": "949777d72b0d2535278d3dc13498b2535136f6dfe0678499012e853ee9abcab1"
   }
  }
 },
 "nbformat": 4,
 "nbformat_minor": 2
}
